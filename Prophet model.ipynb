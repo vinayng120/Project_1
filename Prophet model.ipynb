{
 "cells": [
  {
   "cell_type": "code",
   "execution_count": 2,
   "id": "5d9aae64",
   "metadata": {},
   "outputs": [
    {
     "name": "stderr",
     "output_type": "stream",
     "text": [
      "00:22:12 - cmdstanpy - INFO - Chain [1] start processing\n",
      "00:22:15 - cmdstanpy - INFO - Chain [1] done processing\n"
     ]
    }
   ],
   "source": [
    "import numpy as np\n",
    "import pandas as pd\n",
    "import warnings\n",
    "warnings.filterwarnings('ignore')\n",
    "import prophet\n",
    "from sklearn.metrics import mean_squared_error\n",
    "import math\n",
    "from prophet import Prophet\n",
    "import pickle\n",
    "\n",
    "df= pd.read_excel(\"Crude_oil_WTI.xls\",parse_dates=True)\n",
    "# for prophet model we need to rename the columns as ds(Date) and y(Price)\n",
    "df.rename(columns={'Date': 'ds', 'Cushing, OK WTI Spot Price FOB (Dollars per Barrel)': 'y'}, inplace=True)\n",
    "df.ds=pd.to_datetime(df.ds)\n",
    "train=df.iloc[:len(df)-365]\n",
    "test=df.iloc[len(df)-365:]\n",
    "model_fb = Prophet()\n",
    "model_fb.fit(train)\n",
    "\n",
    "pickle.dump(model_fb,open('model.pkl','wb'))"
   ]
  },
  {
   "cell_type": "code",
   "execution_count": null,
   "id": "29ccea8e",
   "metadata": {},
   "outputs": [],
   "source": []
  }
 ],
 "metadata": {
  "kernelspec": {
   "display_name": "Python 3 (ipykernel)",
   "language": "python",
   "name": "python3"
  },
  "language_info": {
   "codemirror_mode": {
    "name": "ipython",
    "version": 3
   },
   "file_extension": ".py",
   "mimetype": "text/x-python",
   "name": "python",
   "nbconvert_exporter": "python",
   "pygments_lexer": "ipython3",
   "version": "3.9.13"
  }
 },
 "nbformat": 4,
 "nbformat_minor": 5
}
